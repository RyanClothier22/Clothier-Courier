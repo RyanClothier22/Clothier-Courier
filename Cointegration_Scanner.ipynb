{
  "nbformat": 4,
  "nbformat_minor": 0,
  "metadata": {
    "colab": {
      "provenance": [],
      "collapsed_sections": [
        "EL5xdBpriy84",
        "mX3gApVMGsOD",
        "dar9RyOJtsqZ",
        "8qIBDvmvppgZ",
        "gqojc3fUjUNg",
        "POZGHGxgjD3F"
      ],
      "authorship_tag": "ABX9TyORaAXF0iRhdJAd4cjdtoX0",
      "include_colab_link": true
    },
    "kernelspec": {
      "name": "python3",
      "display_name": "Python 3"
    },
    "language_info": {
      "name": "python"
    }
  },
  "cells": [
    {
      "cell_type": "markdown",
      "metadata": {
        "id": "view-in-github",
        "colab_type": "text"
      },
      "source": [
        "<a href=\"https://colab.research.google.com/github/RyanClothier22/Clothier-Courier/blob/main/Cointegration_Scanner.ipynb\" target=\"_parent\"><img src=\"https://colab.research.google.com/assets/colab-badge.svg\" alt=\"Open In Colab\"/></a>"
      ]
    },
    {
      "cell_type": "markdown",
      "source": [
        "### Imports"
      ],
      "metadata": {
        "id": "EL5xdBpriy84"
      }
    },
    {
      "cell_type": "code",
      "source": [
        "!pip install yfinance"
      ],
      "metadata": {
        "colab": {
          "base_uri": "https://localhost:8080/"
        },
        "id": "nv4ZwJlWjpNk",
        "outputId": "18605f52-94a8-42e9-c992-bcd27ef92741"
      },
      "execution_count": 1,
      "outputs": [
        {
          "output_type": "stream",
          "name": "stdout",
          "text": [
            "Looking in indexes: https://pypi.org/simple, https://us-python.pkg.dev/colab-wheels/public/simple/\n",
            "Collecting yfinance\n",
            "  Downloading yfinance-0.2.12-py2.py3-none-any.whl (59 kB)\n",
            "\u001b[2K     \u001b[90m━━━━━━━━━━━━━━━━━━━━━━━━━━━━━━━━━━━━━━━\u001b[0m \u001b[32m59.2/59.2 KB\u001b[0m \u001b[31m783.2 kB/s\u001b[0m eta \u001b[36m0:00:00\u001b[0m\n",
            "\u001b[?25hCollecting beautifulsoup4>=4.11.1\n",
            "  Downloading beautifulsoup4-4.11.2-py3-none-any.whl (129 kB)\n",
            "\u001b[2K     \u001b[90m━━━━━━━━━━━━━━━━━━━━━━━━━━━━━━━━━━━━━━━\u001b[0m \u001b[32m129.4/129.4 KB\u001b[0m \u001b[31m4.5 MB/s\u001b[0m eta \u001b[36m0:00:00\u001b[0m\n",
            "\u001b[?25hCollecting appdirs>=1.4.4\n",
            "  Downloading appdirs-1.4.4-py2.py3-none-any.whl (9.6 kB)\n",
            "Collecting cryptography>=3.3.2\n",
            "  Downloading cryptography-39.0.2-cp36-abi3-manylinux_2_28_x86_64.whl (4.2 MB)\n",
            "\u001b[2K     \u001b[90m━━━━━━━━━━━━━━━━━━━━━━━━━━━━━━━━━━━━━━━━\u001b[0m \u001b[32m4.2/4.2 MB\u001b[0m \u001b[31m33.7 MB/s\u001b[0m eta \u001b[36m0:00:00\u001b[0m\n",
            "\u001b[?25hRequirement already satisfied: lxml>=4.9.1 in /usr/local/lib/python3.9/dist-packages (from yfinance) (4.9.2)\n",
            "Requirement already satisfied: pytz>=2022.5 in /usr/local/lib/python3.9/dist-packages (from yfinance) (2022.7.1)\n",
            "Collecting frozendict>=2.3.4\n",
            "  Downloading frozendict-2.3.5-cp39-cp39-manylinux_2_17_x86_64.manylinux2014_x86_64.whl (112 kB)\n",
            "\u001b[2K     \u001b[90m━━━━━━━━━━━━━━━━━━━━━━━━━━━━━━━━━━━━━━━\u001b[0m \u001b[32m112.8/112.8 KB\u001b[0m \u001b[31m3.0 MB/s\u001b[0m eta \u001b[36m0:00:00\u001b[0m\n",
            "\u001b[?25hRequirement already satisfied: multitasking>=0.0.7 in /usr/local/lib/python3.9/dist-packages (from yfinance) (0.0.11)\n",
            "Requirement already satisfied: numpy>=1.16.5 in /usr/local/lib/python3.9/dist-packages (from yfinance) (1.22.4)\n",
            "Requirement already satisfied: pandas>=1.3.0 in /usr/local/lib/python3.9/dist-packages (from yfinance) (1.4.4)\n",
            "Collecting requests>=2.26\n",
            "  Downloading requests-2.28.2-py3-none-any.whl (62 kB)\n",
            "\u001b[2K     \u001b[90m━━━━━━━━━━━━━━━━━━━━━━━━━━━━━━━━━━━━━━━━\u001b[0m \u001b[32m62.8/62.8 KB\u001b[0m \u001b[31m3.2 MB/s\u001b[0m eta \u001b[36m0:00:00\u001b[0m\n",
            "\u001b[?25hCollecting html5lib>=1.1\n",
            "  Downloading html5lib-1.1-py2.py3-none-any.whl (112 kB)\n",
            "\u001b[2K     \u001b[90m━━━━━━━━━━━━━━━━━━━━━━━━━━━━━━━━━━━━━━━\u001b[0m \u001b[32m112.2/112.2 KB\u001b[0m \u001b[31m5.4 MB/s\u001b[0m eta \u001b[36m0:00:00\u001b[0m\n",
            "\u001b[?25hRequirement already satisfied: soupsieve>1.2 in /usr/local/lib/python3.9/dist-packages (from beautifulsoup4>=4.11.1->yfinance) (2.4)\n",
            "Requirement already satisfied: cffi>=1.12 in /usr/local/lib/python3.9/dist-packages (from cryptography>=3.3.2->yfinance) (1.15.1)\n",
            "Requirement already satisfied: six>=1.9 in /usr/local/lib/python3.9/dist-packages (from html5lib>=1.1->yfinance) (1.15.0)\n",
            "Requirement already satisfied: webencodings in /usr/local/lib/python3.9/dist-packages (from html5lib>=1.1->yfinance) (0.5.1)\n",
            "Requirement already satisfied: python-dateutil>=2.8.1 in /usr/local/lib/python3.9/dist-packages (from pandas>=1.3.0->yfinance) (2.8.2)\n",
            "Collecting charset-normalizer<4,>=2\n",
            "  Downloading charset_normalizer-3.1.0-cp39-cp39-manylinux_2_17_x86_64.manylinux2014_x86_64.whl (199 kB)\n",
            "\u001b[2K     \u001b[90m━━━━━━━━━━━━━━━━━━━━━━━━━━━━━━━━━━━━━━━\u001b[0m \u001b[32m199.2/199.2 KB\u001b[0m \u001b[31m4.9 MB/s\u001b[0m eta \u001b[36m0:00:00\u001b[0m\n",
            "\u001b[?25hRequirement already satisfied: idna<4,>=2.5 in /usr/local/lib/python3.9/dist-packages (from requests>=2.26->yfinance) (2.10)\n",
            "Requirement already satisfied: urllib3<1.27,>=1.21.1 in /usr/local/lib/python3.9/dist-packages (from requests>=2.26->yfinance) (1.26.15)\n",
            "Requirement already satisfied: certifi>=2017.4.17 in /usr/local/lib/python3.9/dist-packages (from requests>=2.26->yfinance) (2022.12.7)\n",
            "Requirement already satisfied: pycparser in /usr/local/lib/python3.9/dist-packages (from cffi>=1.12->cryptography>=3.3.2->yfinance) (2.21)\n",
            "Installing collected packages: appdirs, html5lib, frozendict, charset-normalizer, beautifulsoup4, requests, cryptography, yfinance\n",
            "  Attempting uninstall: html5lib\n",
            "    Found existing installation: html5lib 1.0.1\n",
            "    Uninstalling html5lib-1.0.1:\n",
            "      Successfully uninstalled html5lib-1.0.1\n",
            "  Attempting uninstall: beautifulsoup4\n",
            "    Found existing installation: beautifulsoup4 4.9.3\n",
            "    Uninstalling beautifulsoup4-4.9.3:\n",
            "      Successfully uninstalled beautifulsoup4-4.9.3\n",
            "  Attempting uninstall: requests\n",
            "    Found existing installation: requests 2.25.1\n",
            "    Uninstalling requests-2.25.1:\n",
            "      Successfully uninstalled requests-2.25.1\n",
            "Successfully installed appdirs-1.4.4 beautifulsoup4-4.11.2 charset-normalizer-3.1.0 cryptography-39.0.2 frozendict-2.3.5 html5lib-1.1 requests-2.28.2 yfinance-0.2.12\n"
          ]
        }
      ]
    },
    {
      "cell_type": "code",
      "source": [
        "import numpy as np\n",
        "import pandas as pd\n",
        "import yfinance as yf\n",
        "import datetime as dt\n",
        "import statsmodels.tsa.stattools as ts \n",
        "from scipy.stats import pearsonr, linregress\n",
        "import matplotlib.pyplot as plt\n",
        "import random\n",
        "import time\n",
        "import matplotlib.dates as mdates"
      ],
      "metadata": {
        "id": "OKpNFBjti2Wz"
      },
      "execution_count": 2,
      "outputs": []
    },
    {
      "cell_type": "markdown",
      "source": [
        "### Initalizing Data Window"
      ],
      "metadata": {
        "id": "mX3gApVMGsOD"
      }
    },
    {
      "cell_type": "code",
      "source": [
        "end = dt.date.today() - dt.timedelta(days=1)\n",
        "start = end - dt.timedelta(days=365*3)"
      ],
      "metadata": {
        "id": "6QWVgjlCjsrW"
      },
      "execution_count": 3,
      "outputs": []
    },
    {
      "cell_type": "markdown",
      "source": [
        "### Define Helper Functions"
      ],
      "metadata": {
        "id": "dar9RyOJtsqZ"
      }
    },
    {
      "cell_type": "code",
      "source": [
        "def get_data(stock, start, end):\n",
        "  df = yf.download(stock, start, end)\n",
        "  return df['Adj Close'], df['Volume']"
      ],
      "metadata": {
        "id": "947zHEo51_Sm"
      },
      "execution_count": 4,
      "outputs": []
    },
    {
      "cell_type": "code",
      "source": [
        "def get_sp():\n",
        "  data = pd.read_html('https://en.wikipedia.org/wiki/List_of_S%26P_500_companies')\n",
        "  df = data[0]\n",
        "  stocks = df['Symbol'].tolist()\n",
        "  for i in range(len(stocks)):\n",
        "    if \".\"  in stocks[i]:\n",
        "      stocks[i] = stocks[i].replace(\".\", \"-\")\n",
        "  return stocks"
      ],
      "metadata": {
        "id": "TMNZOBpl2pln"
      },
      "execution_count": 5,
      "outputs": []
    },
    {
      "cell_type": "code",
      "source": [
        " ### Define the Cointegration tester function\n",
        "def coint_test(A, B):\n",
        "  if A.name != B.name:\n",
        "    if pearsonr(A,B).pvalue < 0.02:\n",
        "      if linregress(A,B).rvalue ** 2 > 0.9:\n",
        "        if ts.coint(A,B)[1]  < 0.02:\n",
        "            return [A.name, B.name]\n"
      ],
      "metadata": {
        "id": "nKActcgvuJuL"
      },
      "execution_count": 6,
      "outputs": []
    },
    {
      "cell_type": "code",
      "source": [
        "# Find Cointegrated Pairs from DataFrame\n",
        "\n",
        "def find_pairs(df):\n",
        "  tickers = df.columns.tolist()\n",
        "  coint_list = []\n",
        "  for i in range(len(tickers)):\n",
        "    for j in range(i, len(tickers)):\n",
        "      entry = coint_test(df[tickers[i]],df[tickers[j]])\n",
        "      if entry != None:\n",
        "        coint_list.append(entry)\n",
        "    \n",
        "    print(f\"Found {len(coint_list)} after {i+1} Stocks\")\n",
        "\n",
        "  return coint_list"
      ],
      "metadata": {
        "id": "njSw_0w60-0r"
      },
      "execution_count": 7,
      "outputs": []
    },
    {
      "cell_type": "code",
      "source": [
        "# Make a Seires with the 100 highest volume stocks\n",
        "def find_highest_volumes(volumes,df):\n",
        "  means = {}\n",
        "  for i in volumes.columns:\n",
        "    means[i] = volumes[i].mean()\n",
        "  means = pd.Series(means)\n",
        "  means.sort_values(ascending=False)\n",
        "  means = means[:100]\n",
        "  high_volume_data = pd.DataFrame()\n",
        "  for i in means.index.tolist():\n",
        "    high_volume_data[i] = df[i]"
      ],
      "metadata": {
        "id": "XiffAr3b1h5S"
      },
      "execution_count": 8,
      "outputs": []
    },
    {
      "cell_type": "code",
      "source": [
        "### Returns Train split of data set\n",
        "def train(X):\n",
        "  return X[:int(len(X)*0.7)]"
      ],
      "metadata": {
        "id": "n2xF0qTO3xua"
      },
      "execution_count": 9,
      "outputs": []
    },
    {
      "cell_type": "code",
      "source": [
        "### Returns Test split of data set\n",
        "def test(X):\n",
        "  return X[int(len(X)*0.7):]"
      ],
      "metadata": {
        "id": "c2pwAu7X4Ld6"
      },
      "execution_count": 10,
      "outputs": []
    },
    {
      "cell_type": "markdown",
      "source": [
        "### Define Chart Functions"
      ],
      "metadata": {
        "id": "8qIBDvmvppgZ"
      }
    },
    {
      "cell_type": "code",
      "source": [
        "### Make a heatmap grid to show findings"
      ],
      "metadata": {
        "id": "Vii2M_tJvXAj"
      },
      "execution_count": 11,
      "outputs": []
    },
    {
      "cell_type": "code",
      "source": [
        "def dual_axis_chart(A,B,ax):\n",
        "  ax.set_title(f\"Price overlay of {A.name} and {B.name}\")\n",
        "  ax2 = ax.twinx()\n",
        "  ax.plot(A, color='orange')\n",
        "  ax2.plot(B, color='blue')\n",
        "  ax.xaxis.set_major_locator(mdates.DayLocator(interval=365))\n",
        "  ax.xaxis.set_major_formatter(mdates.DateFormatter('%Y'))"
      ],
      "metadata": {
        "id": "mo1m5EEv4gKb"
      },
      "execution_count": 12,
      "outputs": []
    },
    {
      "cell_type": "code",
      "source": [
        "def scatter_chart(A,B,ax):\n",
        "  ax.scatter(train(A),train(B), color='blue')\n",
        "  ax.scatter(test(A),test(B), color='orange')\n",
        "\n",
        "  regression = linregress(A,B)\n",
        "  a = regression.slope\n",
        "  b=regression.intercept\n",
        "  ax.plot(A, a* A + b,color='red')\n",
        "  ax.set_title(f\"R Squared: {round(regression.rvalue ** 2,2)}\")"
      ],
      "metadata": {
        "id": "JL87LV-jApkB"
      },
      "execution_count": 13,
      "outputs": []
    },
    {
      "cell_type": "code",
      "source": [
        "def ratio_plot(A,B,ax):\n",
        "  fig = plt.figure()\n",
        "  ratio = A/B\n",
        "  ax.plot(train(ratio), color='blue')\n",
        "  ax.plot(test(ratio), color='orange')\n",
        "  ax.set_title(f\"Price Ratio of {A.name} and {B.name}\")\n",
        "  ax.xaxis.set_major_locator(mdates.DayLocator(interval=365))\n",
        "  ax.xaxis.set_major_formatter(mdates.DateFormatter('%Y'))"
      ],
      "metadata": {
        "id": "sbMlL8O4Fcp9"
      },
      "execution_count": 14,
      "outputs": []
    },
    {
      "cell_type": "code",
      "source": [
        "def zscore_plot(A, B,ax):\n",
        "  ratio = A/B\n",
        "  mavg_5 = ratio.rolling(5).mean()\n",
        "  mavg_60 = ratio.rolling(60).mean()\n",
        "  std_60 = ratio.rolling(60).std()\n",
        "  zscore = (mavg_5 - mavg_60)/std_60\n",
        "  ax.plot(zscore[60:], color='blue')\n",
        "  ax.set_title(f\"Z-Score plot of Price Ratio\")\n",
        "  ax.axhline(y=-0.5, color='red', linestyle='--')\n",
        "  ax.axhline(y=0.5, color='red', linestyle='--', label='Buy Spread')\n",
        "  ax.axhline(y=1, color='orange', label='Sell Spread')\n",
        "  ax.axhline(y=-1, color='orange')\n",
        "  ax.legend()\n",
        "  ax.xaxis.set_major_locator(mdates.DayLocator(interval=365))\n",
        "  ax.xaxis.set_major_formatter(mdates.DateFormatter('%Y'))"
      ],
      "metadata": {
        "id": "vJps-Ee7EqZL"
      },
      "execution_count": 15,
      "outputs": []
    },
    {
      "cell_type": "code",
      "source": [
        "def buy_sell_signals(A, B, ax):\n",
        "  ax.plot(A,color='blue',label=A.name)\n",
        "  ax.plot(B,color='orange',label=B.name)\n",
        "  ax.set_title(f\"Buy and Sell Signals\")\n",
        "\n",
        "  ratio = A/B\n",
        "  mavg_5 = ratio.rolling(5).mean()\n",
        "  mavg_60 = ratio.rolling(60).mean()\n",
        "  std_60 = ratio.rolling(60).std()\n",
        "  zscore = (mavg_5 - mavg_60)/std_60\n",
        "\n",
        "\n",
        "  buy = A.copy()\n",
        "  sell = B.copy()\n",
        "  buy[zscore>-1] = 0\n",
        "  sell[zscore<1] = 0\n",
        "  ax.plot(buy[60:], color='green', linestyle='None', marker='^', label='buy')\n",
        "  ax.plot(sell[60:],color='red', linestyle='None', marker='^', label='sell')\n",
        "  ax.set_ylim(min(A.min(), B.min()), max(A.max(), B.max()))\n",
        "  ax.legend()\n",
        "  ax.xaxis.set_major_locator(mdates.DayLocator(interval=365))\n",
        "  ax.xaxis.set_major_formatter(mdates.DateFormatter('%Y'))\n"
      ],
      "metadata": {
        "id": "Ox37fs_SSAVW"
      },
      "execution_count": 16,
      "outputs": []
    },
    {
      "cell_type": "code",
      "source": [
        "# Trade using a simple strategy\n",
        "def trade(A, B):\n",
        "  \n",
        "  balance = []\n",
        "\n",
        "  ratio = A/B\n",
        "  mavg_5 = ratio.rolling(5).mean()\n",
        "  mavg_60 = ratio.rolling(60).mean()\n",
        "  std_60 = ratio.rolling(60).std()\n",
        "  zscore = (mavg_5 - mavg_60)/std_60\n",
        "    \n",
        "  cash = 100\n",
        "  A_shares = 0\n",
        "  B_shares = 0\n",
        "  for i in range(len(ratio)):\n",
        "      if zscore[i] > 1:\n",
        "          cash += A[i] - B[i] * ratio[i]\n",
        "          A_shares -= 1\n",
        "          B_shares += ratio[i]\n",
        "      elif zscore[i] < -1:\n",
        "          cash -= A[i] - B[i] * ratio[i]\n",
        "          A_shares += 1\n",
        "          B_shares -= ratio[i]\n",
        "      elif abs(zscore[i]) < 0.75:\n",
        "          cash += A[i] * A_shares + B[i] * B_shares\n",
        "          A_shares = 0\n",
        "          B_shares = 0\n",
        "          \n",
        "      balance.append(cash)\n",
        "  return balance"
      ],
      "metadata": {
        "id": "4VH7VRPmwsmb"
      },
      "execution_count": 17,
      "outputs": []
    },
    {
      "cell_type": "code",
      "source": [
        "def simulation_plot(A,B,ax):\n",
        "  ax.set_title(\"Trade Simulation\")\n",
        "  ax.plot(A.index, trade(A,B))\n",
        "  ax.xaxis.set_major_locator(mdates.DayLocator(interval=365))\n",
        "  ax.xaxis.set_major_formatter(mdates.DateFormatter('%Y'))\n",
        "\n"
      ],
      "metadata": {
        "id": "PE1wP2mvSHHC"
      },
      "execution_count": 18,
      "outputs": []
    },
    {
      "cell_type": "code",
      "source": [
        "def residual_plot(A, B, ax):\n",
        "  res = A - B\n",
        "  ax.set_title(\"Price Gap\")\n",
        "  ax.plot(train(res), color='blue')\n",
        "  ax.plot(test(res), color = 'orange')\n",
        "  ax.xaxis.set_major_locator(mdates.DayLocator(interval=365))\n",
        "  ax.xaxis.set_major_formatter(mdates.DateFormatter('%Y'))"
      ],
      "metadata": {
        "id": "itDOGqBrA2JI"
      },
      "execution_count": 19,
      "outputs": []
    },
    {
      "cell_type": "code",
      "source": [
        "def make_subplot(A,B):\n",
        "  fig, ax = plt.subplots(2,3, figsize =(15,10))\n",
        "  fig.tight_layout(pad=5)\n",
        "\n",
        "  fig.suptitle(f\"{A.name} and {B.name} Cointegration Dashboard\", fontsize=25, y=1.03)\n",
        "  residual_plot(A,B,ax[0][0])\n",
        "  ratio_plot(A,B, ax[0][1])\n",
        "  scatter_chart(A,B, ax[1][0])\n",
        "  zscore_plot(A,B, ax[1][1])\n",
        "  buy_sell_signals(test(A),test(B), ax[0,2])\n",
        "  simulation_plot(test(A),test(B), ax[1][2])\n"
      ],
      "metadata": {
        "id": "NMpVXoHWJOLp"
      },
      "execution_count": 20,
      "outputs": []
    },
    {
      "cell_type": "code",
      "source": [
        "def summary_chart(A,B):\n",
        "  fig, ax = plt.subplots(3,3, figsize =(15,15))\n",
        "  fig.tight_layout(pad=5)\n",
        "  fig.suptitle(f\"{A.name} and {B.name} Summary plots\", fontsize=25, y=1.01)\n",
        "  residual_plot(A,B, ax[0][0])\n",
        "  scatter_chart(A,B, ax[0][1])\n",
        "  ratio_plot(A,B, ax[0][2])\n",
        "  zscore_plot(train(A), train(B), ax[1][0])\n",
        "  buy_sell_signals(train(A),train(B), ax[1][1])\n",
        "  simulation_plot(train(A),train(B), ax[1][2])\n",
        "  zscore_plot(test(A), test(B), ax[2][0])\n",
        "  buy_sell_signals(test(A),test(B), ax[2][1])\n",
        "  simulation_plot(test(A),test(B), ax[2][2])\n",
        "  return fig"
      ],
      "metadata": {
        "id": "I8V6yJ8f5icR"
      },
      "execution_count": 21,
      "outputs": []
    },
    {
      "cell_type": "markdown",
      "source": [
        "### Run Screener"
      ],
      "metadata": {
        "id": "gqojc3fUjUNg"
      }
    },
    {
      "cell_type": "code",
      "source": [
        " ### Download Adj Close and Volume Data\n",
        "df, volume = get_data(get_sp(), start, end)\n",
        "df = df.dropna(axis=1)\n",
        "volume = volume.dropna(axis=1)"
      ],
      "metadata": {
        "colab": {
          "base_uri": "https://localhost:8080/"
        },
        "id": "n_6lgu883Qv7",
        "outputId": "0d2bc03a-b2d7-43a3-b1d7-e268eaf3aec1"
      },
      "execution_count": 22,
      "outputs": [
        {
          "output_type": "stream",
          "name": "stdout",
          "text": [
            "[*********************100%***********************]  503 of 503 completed\n"
          ]
        }
      ]
    },
    {
      "cell_type": "code",
      "source": [
        "### Gets stock data with the 100 highest average trading volume\n",
        "high_volume_data = find_highest_volumes(volume, df)"
      ],
      "metadata": {
        "id": "RisslYhNmOTy"
      },
      "execution_count": 23,
      "outputs": []
    },
    {
      "cell_type": "code",
      "source": [
        "coint_list = find_pairs(train(df))"
      ],
      "metadata": {
        "colab": {
          "base_uri": "https://localhost:8080/"
        },
        "id": "pSYFhwHo4uwi",
        "outputId": "9697dc57-7b27-404b-be9c-ebcb571196a1"
      },
      "execution_count": null,
      "outputs": [
        {
          "output_type": "stream",
          "name": "stdout",
          "text": [
            "Found 3 after 1 Stocks\n",
            "Found 3 after 2 Stocks\n",
            "Found 3 after 3 Stocks\n",
            "Found 6 after 4 Stocks\n",
            "Found 18 after 5 Stocks\n",
            "Found 19 after 6 Stocks\n",
            "Found 19 after 7 Stocks\n",
            "Found 30 after 8 Stocks\n",
            "Found 32 after 9 Stocks\n",
            "Found 37 after 10 Stocks\n",
            "Found 37 after 11 Stocks\n",
            "Found 38 after 12 Stocks\n",
            "Found 38 after 13 Stocks\n",
            "Found 38 after 14 Stocks\n",
            "Found 44 after 15 Stocks\n",
            "Found 51 after 16 Stocks\n",
            "Found 55 after 17 Stocks\n",
            "Found 61 after 18 Stocks\n",
            "Found 66 after 19 Stocks\n",
            "Found 68 after 20 Stocks\n"
          ]
        }
      ]
    },
    {
      "cell_type": "code",
      "source": [
        "### Displays how many cointegrated pairs were found\n",
        "print(len(coint_list))"
      ],
      "metadata": {
        "id": "RZvg8bTpGsBc"
      },
      "execution_count": null,
      "outputs": []
    },
    {
      "cell_type": "markdown",
      "source": [
        "### Show Sample Charts"
      ],
      "metadata": {
        "id": "POZGHGxgjD3F"
      }
    },
    {
      "cell_type": "code",
      "source": [
        "i = random.choice(coint_list)\n",
        "A, B = df[i[0]], df[i[1]]\n",
        "make_subplot(A,B)"
      ],
      "metadata": {
        "id": "bknsVqXQJjBL"
      },
      "execution_count": null,
      "outputs": []
    },
    {
      "cell_type": "code",
      "source": [
        "i = random.choice(coint_list)\n",
        "A, B = df[i[0]], df[i[1]]\n",
        "summary_chart(A,B)"
      ],
      "metadata": {
        "id": "yjmG0jyTKZbP"
      },
      "execution_count": null,
      "outputs": []
    },
    {
      "cell_type": "markdown",
      "source": [
        "### Save Charts from List"
      ],
      "metadata": {
        "id": "5790_WKyG2tL"
      }
    },
    {
      "cell_type": "code",
      "source": [
        "!rm *"
      ],
      "metadata": {
        "id": "lB-WoiZx7ktM"
      },
      "execution_count": null,
      "outputs": []
    },
    {
      "cell_type": "code",
      "source": [
        "for pair in coint_list[:35]:\n",
        "  A, B = df[pair[0]], df[pair[1]]\n",
        "  fig = summary_chart(A,B)\n",
        "  fig.savefig(f'{pair[0]} and {pair[1]} Cointegration Plot')"
      ],
      "metadata": {
        "collapsed": true,
        "id": "E8WhcB7u0Jpz"
      },
      "execution_count": null,
      "outputs": []
    },
    {
      "cell_type": "code",
      "source": [
        "!zip -r /content/file.zip /content/"
      ],
      "metadata": {
        "id": "kIvFlwVN2SBq"
      },
      "execution_count": null,
      "outputs": []
    }
  ]
}